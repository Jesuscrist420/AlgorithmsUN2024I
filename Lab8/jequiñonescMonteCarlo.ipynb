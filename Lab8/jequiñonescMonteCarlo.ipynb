{
  "cells": [
    {
      "cell_type": "markdown",
      "metadata": {
        "id": "gdB5r3Lp90VN"
      },
      "source": [
        "# Knapsak counting\n",
        "\n",
        "Given $n$ items with integer sizes\n",
        "\\begin{align}\n",
        "a=(a_1,...,a_n)\\in\\mathbb{N}^n\n",
        "\\end{align}\n",
        "and a knapsack with capacity\n",
        "\\begin{align}\n",
        "b \\in \\mathbb{N}.\n",
        "\\end{align}\n",
        "Estimate the proportion\n",
        "\\begin{align}\n",
        "p \\in [0,1]\n",
        "\\end{align}\n",
        "and the number\n",
        "\\begin{align}\n",
        "k\n",
        "\\end{align}\n",
        "of 0,1-vectors\n",
        "\\begin{align}\n",
        "x \\in {\\{0,1\\}}^n\n",
        "\\end{align}\n",
        "satisfying the inequality\n",
        "\\begin{align}\n",
        "a \\cdot x = \\sum_{i=1}^{n} a_i x_i \\leq b\n",
        "\\end{align}\n",
        "If the vector $a$ gives the sizes of $n$ items to be packed into a knapsack of capacity $b$, the quantity to be estimated can be interpreted as, which we shall refer as \"Knapsack solutions\".\n",
        "\n",
        "![picture](https://upload.wikimedia.org/wikipedia/commons/thumb/f/fd/Knapsack.svg/1280px-Knapsack.svg.png)\n"
      ]
    },
    {
      "cell_type": "code",
      "execution_count": null,
      "metadata": {
        "id": "uXLM1ylVDgEs"
      },
      "outputs": [],
      "source": [
        "import numpy as np\n",
        "import itertools\n",
        "\n",
        "def test(a,b,x):\n",
        "\n",
        "  #test if a combination of items x, with sizes a fits in a knapsack of capacity b\n",
        "    return np.sum(np.multiply(a,x)) <= b"
      ]
    },
    {
      "cell_type": "markdown",
      "metadata": {
        "id": "g6lLG4YUOm6y"
      },
      "source": [
        "# **1. Count and calculate the exact proportion of  “Knapsack solutions.” for the problem in the image.**"
      ]
    },
    {
      "cell_type": "code",
      "execution_count": null,
      "metadata": {
        "colab": {
          "base_uri": "https://localhost:8080/"
        },
        "id": "VKtcX24oOFLT",
        "outputId": "bbcd6183-a5a9-4e1b-b919-79c64b0b9f2c"
      },
      "outputs": [
        {
          "output_type": "stream",
          "name": "stdout",
          "text": [
            "# Of valid solutions: 23\n",
            "Proportion: 0.71875\n",
            "Total of possible combinations: 32\n"
          ]
        }
      ],
      "source": [
        "import numpy as np\n",
        "import itertools\n",
        "\n",
        "# Tamaños de los objetos\n",
        "a = np.array([1, 1, 2, 4, 12])\n",
        "\n",
        "# Capacidad total de la mochila\n",
        "b = 15\n",
        "\n",
        "# Contador de soluciones\n",
        "k = 0\n",
        "\n",
        "# Proporción\n",
        "p = 0\n",
        "\n",
        "# Combinaciones posibles de 0 y 1 para los objetos\n",
        "tests = list(itertools.product([0, 1], repeat=a.size))\n",
        "\n",
        "# Iterar sobre cada combinación\n",
        "for i in list(tests):\n",
        "    # Combinacion coincide con la capacidad de la mochila\n",
        "    if test(a, b, np.array(i)):\n",
        "        k += 1  # Contador de soluciones válidas\n",
        "\n",
        "# Proporción de soluciones válidas respecto al total de combinaciones\n",
        "p = k / (2 ** a.size)\n",
        "\n",
        "\n",
        "print('# Of valid solutions:', k)\n",
        "print('Proportion:', p)\n",
        "print('Total of possible combinations:', 2 ** a.size)\n"
      ]
    },
    {
      "cell_type": "markdown",
      "metadata": {
        "id": "_DEVY0TnPj88"
      },
      "source": [
        "# **2. Estimate the proportion and number of “Knapsack solutions.” if the sizes are (1,2,3,4,5,6,7,9,10) and the capacity of the knapsack is 10 using Monte Carlo with 1.000, 10.000 random binary vectors.**"
      ]
    },
    {
      "cell_type": "code",
      "execution_count": null,
      "metadata": {
        "colab": {
          "base_uri": "https://localhost:8080/"
        },
        "id": "TAMK2NsYSHNr",
        "outputId": "0cf500fc-4a7f-4f91-c322-7a8c9e87698a"
      },
      "outputs": [
        {
          "output_type": "stream",
          "name": "stdout",
          "text": [
            "# Of solutions: 70\n",
            "Proportion: 0.07\n",
            "Tested combinations: 1000\n"
          ]
        }
      ],
      "source": [
        "# Tamaños de los objetos\n",
        "a = np.array([1, 2, 3, 4, 5, 6, 7, 9, 10])\n",
        "\n",
        "# Capacidad total de la mochila\n",
        "b = 10\n",
        "\n",
        "# Inicializamos el contador de soluciones\n",
        "k = 0\n",
        "\n",
        "# Inicializamos la proporción\n",
        "p = 0\n",
        "\n",
        "# Número de ejecuciones\n",
        "runs = 1000\n",
        "\n",
        "# Realizamos iteraciones\n",
        "for i in range(1, runs + 1):\n",
        "    # Generamos una combinación aleatoria de 0 y 1 para representar si un objeto está o no en la mochila\n",
        "    x = np.random.randint(2, size=a.size)\n",
        "    if test(a, b, x):\n",
        "        k += 1  # Incrementamos el contador de soluciones válidas\n",
        "\n",
        "\n",
        "# Calculamos la proporción de soluciones válidas respecto al total de combinaciones\n",
        "p = k / runs\n",
        "\n",
        "# Imprimimos los resultados\n",
        "print('# Of solutions: '+str(k))\n",
        "print('Proportion: '+str(p))\n",
        "print('Tested combinations: ' + str(runs))\n"
      ]
    },
    {
      "cell_type": "code",
      "source": [
        "# Tamaños de los objetos\n",
        "a = np.array([1, 2, 3, 4, 5, 6, 7, 9, 10])\n",
        "\n",
        "# Capacidad total de la mochila\n",
        "b = 10\n",
        "\n",
        "# Inicializamos el contador de soluciones\n",
        "k = 0\n",
        "\n",
        "# Inicializamos la proporción\n",
        "p = 0\n",
        "\n",
        "# Número de ejecuciones\n",
        "runs = 10000\n",
        "\n",
        "# Realizamos iteraciones\n",
        "for i in range(1, runs + 1):\n",
        "    # Generamos una combinación aleatoria de 0 y 1 para representar si un objeto está o no en la mochila\n",
        "    x = np.random.randint(2, size=a.size)\n",
        "    if test(a, b, x):\n",
        "        k += 1  # Incrementamos el contador de soluciones válidas\n",
        "\n",
        "\n",
        "# Calculamos la proporción de soluciones válidas respecto al total de combinaciones\n",
        "p = k / runs\n",
        "\n",
        "# Imprimimos los resultados\n",
        "print('# Of solutions: '+str(k))\n",
        "print('Proportion: '+str(p))\n",
        "print('Tested combinations: ' + str(runs))\n"
      ],
      "metadata": {
        "colab": {
          "base_uri": "https://localhost:8080/"
        },
        "id": "luM1drzZyp4d",
        "outputId": "4f5a896f-d889-4340-eca1-a6a3674ff784"
      },
      "execution_count": null,
      "outputs": [
        {
          "output_type": "stream",
          "name": "stdout",
          "text": [
            "# Of solutions: 745\n",
            "Proportion: 0.0745\n",
            "Tested combinations: 10000\n"
          ]
        }
      ]
    },
    {
      "cell_type": "markdown",
      "source": [
        "# **3. Estimate the proportion and number of “Knapsack solutions.” if the sizes are (1,2,3,4,…, 49,50) and the capacity of the knapsack are 10, 50, 100, 1275 using Mote Carlo with 10.000, 100.000 and 1.000.000 random binary vectors.**"
      ],
      "metadata": {
        "id": "yKnZP83ss771"
      }
    },
    {
      "cell_type": "markdown",
      "metadata": {
        "id": "qcPs2qx7VbGb"
      },
      "source": [
        "##Capacity 10"
      ]
    },
    {
      "cell_type": "code",
      "execution_count": null,
      "metadata": {
        "colab": {
          "base_uri": "https://localhost:8080/"
        },
        "id": "QSiBcnS0TKdC",
        "outputId": "fce5a02f-5766-41e7-d767-2aec10946a32"
      },
      "outputs": [
        {
          "output_type": "stream",
          "name": "stdout",
          "text": [
            "# of solutions: 837\n",
            "Proportion: 0.0837\n",
            "Tested combinations: 10000\n"
          ]
        }
      ],
      "source": [
        "a = np.array(range(1,10))\n",
        "b = 10\n",
        "k = 0\n",
        "p = 0\n",
        "\n",
        "runs = 10000\n",
        "for i in range(1,runs+1):\n",
        "  x = np.random.randint(2, size=a.size)\n",
        "  if test(a,b,x):\n",
        "    k+=1\n",
        "\n",
        "p = k/runs\n",
        "print('# of solutions: '+str(k))\n",
        "print('Proportion: '+str(p))\n",
        "print('Tested combinations: ' + str(runs))"
      ]
    },
    {
      "cell_type": "code",
      "source": [
        "a = np.array(range(1,10))\n",
        "b = 10\n",
        "k = 0\n",
        "p = 0\n",
        "\n",
        "runs = 10000\n",
        "for i in range(1,runs+1):\n",
        "  x = np.random.randint(2, size=a.size)\n",
        "  if test(a,b,x):\n",
        "    k+=1\n",
        "\n",
        "p = k/runs\n",
        "print('# of solutions: '+str(k))\n",
        "print('Proportion: '+str(p))\n",
        "print('Tested combinations: ' + str(runs))"
      ],
      "metadata": {
        "colab": {
          "base_uri": "https://localhost:8080/"
        },
        "id": "b0SYecdMtYuO",
        "outputId": "d28fede6-6fcb-4dba-a8f0-66bdfa981eef"
      },
      "execution_count": null,
      "outputs": [
        {
          "output_type": "stream",
          "name": "stdout",
          "text": [
            "# of solutions: 812\n",
            "Proportion: 0.0812\n",
            "Tested combinations: 10000\n"
          ]
        }
      ]
    },
    {
      "cell_type": "markdown",
      "metadata": {
        "id": "CJq5gZBeVuvp"
      },
      "source": [
        "##Capacity: 10"
      ]
    },
    {
      "cell_type": "code",
      "execution_count": null,
      "metadata": {
        "colab": {
          "base_uri": "https://localhost:8080/"
        },
        "id": "TMqccx3JUPT8",
        "outputId": "f300cad2-108e-49ce-dfcf-61dbe480ab36"
      },
      "outputs": [
        {
          "output_type": "stream",
          "name": "stdout",
          "text": [
            "# of solutions: 0\n",
            "Proportion: 0.0\n",
            "Tested combinations: 10000\n"
          ]
        }
      ],
      "source": [
        "a = np.array(range(1,51))\n",
        "b = 10\n",
        "k = 0\n",
        "p = 0\n",
        "\n",
        "runs = 10000\n",
        "for i in range(1,runs+1):\n",
        "  x = np.random.randint(2, size=a.size)\n",
        "  if test(a,b,x):\n",
        "    k+=1\n",
        "\n",
        "p = k/runs\n",
        "print('# of solutions: '+str(k))\n",
        "print('Proportion: '+str(p))\n",
        "print('Tested combinations: ' + str(runs))"
      ]
    },
    {
      "cell_type": "markdown",
      "metadata": {
        "id": "-q2c6vw4VxYM"
      },
      "source": [
        "##Capacity: 50"
      ]
    },
    {
      "cell_type": "code",
      "execution_count": null,
      "metadata": {
        "colab": {
          "base_uri": "https://localhost:8080/"
        },
        "id": "2dCopbBPUlt6",
        "outputId": "25c3735e-9209-4cf1-d5e8-7891bccc7d22"
      },
      "outputs": [
        {
          "output_type": "stream",
          "name": "stdout",
          "text": [
            "# of solutions: 0\n",
            "Proportion: 0.0\n",
            "Tested combinations: 10000\n"
          ]
        }
      ],
      "source": [
        "a = np.array(range(1,51))\n",
        "b = 50\n",
        "k = 0\n",
        "p = 0\n",
        "\n",
        "runs = 10000\n",
        "for i in range(1,runs+1):\n",
        "  x = np.random.randint(2, size=a.size)\n",
        "  if test(a,b,x):\n",
        "    k+=1\n",
        "\n",
        "p = k/runs\n",
        "print('# of solutions: '+str(k))\n",
        "print('Proportion: '+str(p))\n",
        "print('Tested combinations: ' + str(runs))"
      ]
    },
    {
      "cell_type": "markdown",
      "source": [
        "##Capacity: 100\n"
      ],
      "metadata": {
        "id": "NjRvKXLnuSQP"
      }
    },
    {
      "cell_type": "code",
      "source": [
        "a = np.array(range(1,51))\n",
        "b = 100\n",
        "k = 0\n",
        "p = 0\n",
        "\n",
        "runs = 10000\n",
        "for i in range(1,runs+1):\n",
        "  x = np.random.randint(2, size=a.size)\n",
        "  if test(a,b,x):\n",
        "    k+=1\n",
        "\n",
        "p = k/runs\n",
        "print('# of solutions: '+str(k))\n",
        "print('Proportion: '+str(p))\n",
        "print('Tested combinations: ' + str(runs))"
      ],
      "metadata": {
        "colab": {
          "base_uri": "https://localhost:8080/"
        },
        "id": "dZuG7mpYuX6W",
        "outputId": "cbe800f2-1132-4720-c721-3a4f3024ff8f"
      },
      "execution_count": null,
      "outputs": [
        {
          "output_type": "stream",
          "name": "stdout",
          "text": [
            "# of solutions: 0\n",
            "Proportion: 0.0\n",
            "Tested combinations: 10000\n"
          ]
        }
      ]
    },
    {
      "cell_type": "markdown",
      "metadata": {
        "id": "FEY-NpjCV-u2"
      },
      "source": [
        "##Capacity: 1275"
      ]
    },
    {
      "cell_type": "code",
      "execution_count": null,
      "metadata": {
        "colab": {
          "base_uri": "https://localhost:8080/"
        },
        "id": "6cLrd6-VWZfV",
        "outputId": "19f7d929-7f52-49ac-d24b-c5dcd65f6b2d"
      },
      "outputs": [
        {
          "output_type": "stream",
          "name": "stdout",
          "text": [
            "# of solutions: 10000\n",
            "Proportion: 1.0\n",
            "Tested combinations: 10000\n"
          ]
        }
      ],
      "source": [
        "a = np.array(range(1,51))\n",
        "b = 1275\n",
        "k = 0\n",
        "p = 0\n",
        "\n",
        "runs = 10000\n",
        "for i in range(1,runs+1):\n",
        "  x = np.random.randint(2, size=a.size)\n",
        "  if test(a,b,x):\n",
        "    k+=1\n",
        "\n",
        "p = k/runs\n",
        "print('# of solutions: '+str(k))\n",
        "print('Proportion: '+str(p))\n",
        "print('Tested combinations: ' + str(runs))"
      ]
    }
  ],
  "metadata": {
    "colab": {
      "provenance": []
    },
    "kernelspec": {
      "display_name": "Python 3",
      "name": "python3"
    },
    "language_info": {
      "name": "python"
    }
  },
  "nbformat": 4,
  "nbformat_minor": 0
}